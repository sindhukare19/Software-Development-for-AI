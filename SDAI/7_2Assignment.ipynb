{
 "cells": [
  {
   "cell_type": "code",
   "execution_count": 1,
   "metadata": {
    "id": "3d4zO6B_A4C2"
   },
   "outputs": [],
   "source": [
    "salescsv=\"\"\"rate,sales_in_first_month,sales_in_second_month,sales_in_third_month\n",
    "0,2,500,300\n",
    "0,4,300,650\n",
    "4,600,200,400\n",
    "9,450,320,650\n",
    "7,600,250,350\n",
    "5,550,200,700\"\"\""
   ]
  },
  {
   "cell_type": "code",
   "execution_count": 2,
   "metadata": {
    "colab": {
     "base_uri": "https://localhost:8080/",
     "height": 53
    },
    "id": "Mo9FHOmeB2tm",
    "outputId": "1c9c3f35-ed32-414f-c741-0ee8b69723fe"
   },
   "outputs": [
    {
     "data": {
      "application/vnd.google.colaboratory.intrinsic+json": {
       "type": "string"
      },
      "text/plain": [
       "'rate,sales_in_first_month,sales_in_second_month,sales_in_third_month\\n0,2,500,300\\n0,4,300,650\\n4,600,200,400\\n9,450,320,650\\n7,600,250,350\\n5,550,200,700'"
      ]
     },
     "execution_count": 2,
     "metadata": {},
     "output_type": "execute_result"
    }
   ],
   "source": [
    "salescsv"
   ]
  },
  {
   "cell_type": "code",
   "execution_count": 3,
   "metadata": {
    "id": "UJjCw45gB7UB"
   },
   "outputs": [],
   "source": [
    "with open('sales.csv', 'w') as writefile:\n",
    "  writefile.write(salescsv)"
   ]
  },
  {
   "cell_type": "code",
   "execution_count": 4,
   "metadata": {
    "colab": {
     "base_uri": "https://localhost:8080/"
    },
    "id": "2UW6EF_KjzcL",
    "outputId": "c5308f06-8649-463b-8b02-a527fa22298f"
   },
   "outputs": [
    {
     "name": "stdout",
     "output_type": "stream",
     "text": [
      "Predicted sales will be $ 735.73\n"
     ]
    }
   ],
   "source": [
    "import numpy as np\n",
    "import matplotlib.pyplot as plt\n",
    "import pandas as pd\n",
    "import pickle\n",
    "\n",
    "dataset = pd.read_csv('sales.csv')\n",
    "X = dataset.iloc[:, :3]\n",
    "\n",
    "from sklearn.linear_model import LinearRegression\n",
    "trainedModel = LinearRegression()\n",
    "y = dataset.iloc[:, -1]\n",
    "trainedModel.fit(X.values.reshape(-1,3), y)\n",
    "\n",
    "pickle.dump(trainedModel, open('myModel.pkl', 'wb'))\n",
    "myModelLoaded = pickle.load(open('myModel.pkl', 'rb'))\n",
    "prediction = (myModelLoaded.predict(np.array([[5, 200, 300]])))\n",
    "rounded = round(prediction[0], 2)\n",
    "print('Predicted sales will be $ {0}'.format(rounded))\n"
   ]
  }
 ],
 "metadata": {
  "colab": {
   "provenance": []
  },
  "kernelspec": {
   "display_name": "Python 3 (ipykernel)",
   "language": "python",
   "name": "python3"
  },
  "language_info": {
   "codemirror_mode": {
    "name": "ipython",
    "version": 3
   },
   "file_extension": ".py",
   "mimetype": "text/x-python",
   "name": "python",
   "nbconvert_exporter": "python",
   "pygments_lexer": "ipython3",
   "version": "3.9.13"
  }
 },
 "nbformat": 4,
 "nbformat_minor": 1
}

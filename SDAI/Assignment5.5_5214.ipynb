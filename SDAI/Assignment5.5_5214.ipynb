{
 "cells": [
  {
   "cell_type": "code",
   "execution_count": 1,
   "id": "8d1a42c7",
   "metadata": {},
   "outputs": [],
   "source": [
    "import tkinter as tk\n",
    "\n",
    "def button_click():\n",
    "    label.config(text=\"Button got clicked\")\n",
    "\n",
    "# create the root window\n",
    "root = tk.Tk()\n",
    "\n",
    "# create a label with some text\n",
    "label = tk.Label(root, text=\"Hello, world!\")\n",
    "label.pack()\n",
    "\n",
    "# create a button with some text, and connect the button click event to the button_click function\n",
    "button = tk.Button(root, text=\"Click me!\", command=button_click)\n",
    "button.pack()\n",
    "\n",
    "# start the main event loop\n",
    "root.mainloop()\n"
   ]
  },
  {
   "cell_type": "code",
   "execution_count": null,
   "id": "15c24d3a",
   "metadata": {},
   "outputs": [],
   "source": []
  }
 ],
 "metadata": {
  "kernelspec": {
   "display_name": "Python 3 (ipykernel)",
   "language": "python",
   "name": "python3"
  },
  "language_info": {
   "codemirror_mode": {
    "name": "ipython",
    "version": 3
   },
   "file_extension": ".py",
   "mimetype": "text/x-python",
   "name": "python",
   "nbconvert_exporter": "python",
   "pygments_lexer": "ipython3",
   "version": "3.9.13"
  }
 },
 "nbformat": 4,
 "nbformat_minor": 5
}

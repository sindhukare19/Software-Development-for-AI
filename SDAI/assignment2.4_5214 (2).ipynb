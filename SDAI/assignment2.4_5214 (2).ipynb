{
 "cells": [
  {
   "cell_type": "code",
   "execution_count": 34,
   "id": "7e36960d",
   "metadata": {},
   "outputs": [],
   "source": [
    "#import pandas\n",
    "import pandas as pd"
   ]
  },
  {
   "cell_type": "code",
   "execution_count": 35,
   "id": "f6060dd3",
   "metadata": {},
   "outputs": [
    {
     "data": {
      "text/html": [
       "<div>\n",
       "<style scoped>\n",
       "    .dataframe tbody tr th:only-of-type {\n",
       "        vertical-align: middle;\n",
       "    }\n",
       "\n",
       "    .dataframe tbody tr th {\n",
       "        vertical-align: top;\n",
       "    }\n",
       "\n",
       "    .dataframe thead th {\n",
       "        text-align: right;\n",
       "    }\n",
       "</style>\n",
       "<table border=\"1\" class=\"dataframe\">\n",
       "  <thead>\n",
       "    <tr style=\"text-align: right;\">\n",
       "      <th></th>\n",
       "      <th>Sex</th>\n",
       "      <th>Class</th>\n",
       "      <th>Survived</th>\n",
       "      <th>Died</th>\n",
       "    </tr>\n",
       "  </thead>\n",
       "  <tbody>\n",
       "    <tr>\n",
       "      <th>0</th>\n",
       "      <td>Children</td>\n",
       "      <td>First</td>\n",
       "      <td>6</td>\n",
       "      <td>0</td>\n",
       "    </tr>\n",
       "    <tr>\n",
       "      <th>1</th>\n",
       "      <td>Children</td>\n",
       "      <td>Second</td>\n",
       "      <td>24</td>\n",
       "      <td>0</td>\n",
       "    </tr>\n",
       "    <tr>\n",
       "      <th>2</th>\n",
       "      <td>Children</td>\n",
       "      <td>Third</td>\n",
       "      <td>27</td>\n",
       "      <td>52</td>\n",
       "    </tr>\n",
       "    <tr>\n",
       "      <th>3</th>\n",
       "      <td>Men</td>\n",
       "      <td>First</td>\n",
       "      <td>57</td>\n",
       "      <td>118</td>\n",
       "    </tr>\n",
       "    <tr>\n",
       "      <th>4</th>\n",
       "      <td>Men</td>\n",
       "      <td>Second</td>\n",
       "      <td>14</td>\n",
       "      <td>154</td>\n",
       "    </tr>\n",
       "    <tr>\n",
       "      <th>5</th>\n",
       "      <td>Men</td>\n",
       "      <td>Third</td>\n",
       "      <td>75</td>\n",
       "      <td>387</td>\n",
       "    </tr>\n",
       "    <tr>\n",
       "      <th>6</th>\n",
       "      <td>Men</td>\n",
       "      <td>Crew</td>\n",
       "      <td>192</td>\n",
       "      <td>693</td>\n",
       "    </tr>\n",
       "    <tr>\n",
       "      <th>7</th>\n",
       "      <td>Women</td>\n",
       "      <td>First</td>\n",
       "      <td>140</td>\n",
       "      <td>4</td>\n",
       "    </tr>\n",
       "    <tr>\n",
       "      <th>8</th>\n",
       "      <td>Women</td>\n",
       "      <td>Second</td>\n",
       "      <td>80</td>\n",
       "      <td>13</td>\n",
       "    </tr>\n",
       "    <tr>\n",
       "      <th>9</th>\n",
       "      <td>Women</td>\n",
       "      <td>Third</td>\n",
       "      <td>76</td>\n",
       "      <td>89</td>\n",
       "    </tr>\n",
       "    <tr>\n",
       "      <th>10</th>\n",
       "      <td>Women</td>\n",
       "      <td>Crew</td>\n",
       "      <td>20</td>\n",
       "      <td>3</td>\n",
       "    </tr>\n",
       "  </tbody>\n",
       "</table>\n",
       "</div>"
      ],
      "text/plain": [
       "         Sex   Class  Survived  Died\n",
       "0   Children   First         6     0\n",
       "1   Children  Second        24     0\n",
       "2   Children   Third        27    52\n",
       "3        Men   First        57   118\n",
       "4        Men  Second        14   154\n",
       "5        Men   Third        75   387\n",
       "6        Men    Crew       192   693\n",
       "7      Women   First       140     4\n",
       "8      Women  Second        80    13\n",
       "9      Women   Third        76    89\n",
       "10     Women    Crew        20     3"
      ]
     },
     "execution_count": 35,
     "metadata": {},
     "output_type": "execute_result"
    }
   ],
   "source": [
    "#1 Input the following data into a data frame called titanic, and display the entire data frame:\n",
    "data = {'Sex': ['Children', 'Children', 'Children', 'Men', 'Men', 'Men', 'Men', 'Women', 'Women', 'Women', 'Women'],\n",
    "        'Class': ['First', 'Second', 'Third', 'First', 'Second', 'Third', 'Crew', 'First', 'Second', 'Third', 'Crew'],\n",
    "        'Survived': [6, 24, 27, 57, 14, 75, 192, 140, 80, 76, 20],\n",
    "        'Died': [0, 0, 52, 118, 154, 387, 693, 4, 13, 89, 3]}\n",
    "#Convert the dictionary to a dataframe\n",
    "titanic = pd.DataFrame(data)\n",
    "#isplay the entire dataframe\n",
    "titanic\n"
   ]
  },
  {
   "cell_type": "code",
   "execution_count": 36,
   "id": "0c506146",
   "metadata": {},
   "outputs": [
    {
     "name": "stdout",
     "output_type": "stream",
     "text": [
      "        Sex  Class  Survived  Died\n",
      "0  Children  First         6     0\n",
      "3       Men  First        57   118\n",
      "7     Women  First       140     4\n"
     ]
    }
   ],
   "source": [
    "#2 Using Boolean Indexing, show the data of the people in first class.\n",
    "\n",
    "first_class = titanic[titanic['Class'] == 'First']\n",
    "#printing first class\n",
    "print(first_class)\n"
   ]
  },
  {
   "cell_type": "code",
   "execution_count": 37,
   "id": "15e7c05b",
   "metadata": {},
   "outputs": [
    {
     "name": "stdout",
     "output_type": "stream",
     "text": [
      "        Sex   Class  Survived  Died\n",
      "0  Children   First         6     0\n",
      "1  Children  Second        24     0\n",
      "2  Children   Third        27    52\n",
      "3       Men   First        57   118\n",
      "4       Men  Second        14   154\n",
      "5       Men   Third        75   387\n",
      "7     Women   First       140     4\n",
      "8     Women  Second        80    13\n",
      "9     Women   Third        76    89\n"
     ]
    }
   ],
   "source": [
    "#3 Delete the crew members from the data (use Boolean indexing).\n",
    "n_crew = titanic[titanic['Class'] != 'Crew']\n",
    "#print no crew\n",
    "print(n_crew)\n"
   ]
  },
  {
   "cell_type": "code",
   "execution_count": 38,
   "id": "611f0f49",
   "metadata": {},
   "outputs": [
    {
     "name": "stdout",
     "output_type": "stream",
     "text": [
      "        Sex   Class  Survived  Died  Total\n",
      "0  Children   First         6     0      6\n",
      "1  Children  Second        24     0     24\n",
      "2  Children   Third        27    52     79\n",
      "3       Men   First        57   118    175\n",
      "4       Men  Second        14   154    168\n",
      "5       Men   Third        75   387    462\n",
      "7     Women   First       140     4    144\n",
      "8     Women  Second        80    13     93\n",
      "9     Women   Third        76    89    165\n"
     ]
    },
    {
     "name": "stderr",
     "output_type": "stream",
     "text": [
      "/var/folders/91/smnkypkn49j1vh5pdj33vg440000gn/T/ipykernel_6322/1458156291.py:6: SettingWithCopyWarning: \n",
      "A value is trying to be set on a copy of a slice from a DataFrame.\n",
      "Try using .loc[row_indexer,col_indexer] = value instead\n",
      "\n",
      "See the caveats in the documentation: https://pandas.pydata.org/pandas-docs/stable/user_guide/indexing.html#returning-a-view-versus-a-copy\n",
      "  n_crew['Total'] = n_crew['Survived'] + n_crew['Died']\n"
     ]
    }
   ],
   "source": [
    "# 4.Create a new column that is the total number of people for that group (those who survived + died.  Use Boolean Indexing in conjunction with selection of non-existent column).\n",
    "n_crew = titanic[titanic['Class'] != 'Crew']\n",
    "#no_crew['Total'] = no_crew['Survived'] + no_crew['Died']\n",
    "\n",
    "# create a new column called 'Total' that is the sum of 'Survived' and 'Died'\n",
    "n_crew['Total'] = n_crew['Survived'] + n_crew['Died']\n",
    "\n",
    "# display the new dataframe\n",
    "print(n_crew)\n"
   ]
  },
  {
   "cell_type": "code",
   "execution_count": 39,
   "id": "24453b84",
   "metadata": {},
   "outputs": [
    {
     "name": "stdout",
     "output_type": "stream",
     "text": [
      "        Sex   Class  Survived  Died  Survival Percentage\n",
      "0  Children   First         6     0           100.000000\n",
      "1  Children  Second        24     0           100.000000\n",
      "2  Children   Third        27    52            34.177215\n",
      "3       Men   First        57   118            32.571429\n",
      "4       Men  Second        14   154             8.333333\n",
      "5       Men   Third        75   387            16.233766\n",
      "7     Women   First       140     4            97.222222\n",
      "8     Women  Second        80    13            86.021505\n",
      "9     Women   Third        76    89            46.060606\n"
     ]
    },
    {
     "name": "stderr",
     "output_type": "stream",
     "text": [
      "/var/folders/91/smnkypkn49j1vh5pdj33vg440000gn/T/ipykernel_6322/2765882543.py:5: SettingWithCopyWarning: \n",
      "A value is trying to be set on a copy of a slice from a DataFrame.\n",
      "Try using .loc[row_indexer,col_indexer] = value instead\n",
      "\n",
      "See the caveats in the documentation: https://pandas.pydata.org/pandas-docs/stable/user_guide/indexing.html#returning-a-view-versus-a-copy\n",
      "  n_crew['Survival Percentage'] = n_crew['Survived'] / (n_crew['Survived'] + n_crew['Died']) * 100\n"
     ]
    }
   ],
   "source": [
    "#5.Create a new column with the percentage of people who survived.\n",
    "n_crew = titanic[titanic['Class'] != 'Crew']\n",
    "\n",
    "# create a new column called 'Survival Percentage' that is the percentage of people who survived\n",
    "n_crew['Survival Percentage'] = n_crew['Survived'] / (n_crew['Survived'] + n_crew['Died']) * 100\n",
    "\n",
    "# display the new dataframe\n",
    "print(n_crew)\n"
   ]
  },
  {
   "cell_type": "code",
   "execution_count": 19,
   "id": "948f9fab",
   "metadata": {},
   "outputs": [
    {
     "name": "stdout",
     "output_type": "stream",
     "text": [
      "        Sex   Class  Survived  Died  Survival Percentage\n",
      "0  Children   First         6     0           100.000000\n",
      "1  Children  Second        24     0           100.000000\n",
      "2  Children   Third        27    52            34.177215\n",
      "3       Men   First        57   118            32.571429\n",
      "4       Men  Second        14   154             8.333333\n",
      "5       Men   Third        75   387            16.233766\n",
      "7     Women   First       140     4            97.222222\n",
      "8     Women  Second        80    13            86.021505\n",
      "9     Women   Third        76    89            46.060606\n"
     ]
    },
    {
     "name": "stderr",
     "output_type": "stream",
     "text": [
      "/var/folders/91/smnkypkn49j1vh5pdj33vg440000gn/T/ipykernel_6322/1083985379.py:3: SettingWithCopyWarning: \n",
      "A value is trying to be set on a copy of a slice from a DataFrame.\n",
      "Try using .loc[row_indexer,col_indexer] = value instead\n",
      "\n",
      "See the caveats in the documentation: https://pandas.pydata.org/pandas-docs/stable/user_guide/indexing.html#returning-a-view-versus-a-copy\n",
      "  n_crew['Total'] = n_crew['Survived'] + n_crew['Died']\n",
      "/var/folders/91/smnkypkn49j1vh5pdj33vg440000gn/T/ipykernel_6322/1083985379.py:5: SettingWithCopyWarning: \n",
      "A value is trying to be set on a copy of a slice from a DataFrame.\n",
      "Try using .loc[row_indexer,col_indexer] = value instead\n",
      "\n",
      "See the caveats in the documentation: https://pandas.pydata.org/pandas-docs/stable/user_guide/indexing.html#returning-a-view-versus-a-copy\n",
      "  n_crew['Survival Percentage'] = n_crew['Survived'] / (n_crew['Survived'] + n_crew['Died']) * 100\n"
     ]
    }
   ],
   "source": [
    "#6.Delete the column indicating the total number of people in that group.\n",
    "n_crew = titanic[titanic['Class'] != 'Crew']\n",
    "#create total num of people\n",
    "n_crew['Total'] = n_crew['Survived'] + n_crew['Died']\n",
    "\n",
    "# create a new column called 'Survival Percentage' that is the percentage of people who survived\n",
    "n_crew['Survival Percentage'] = n_crew['Survived'] / (n_crew['Survived'] + n_crew['Died']) * 100\n",
    "\n",
    "# drop the 'Total' column\n",
    "n_crew = n_crew.drop('Total', axis=1)\n",
    "\n",
    "# display the new dataframe\n",
    "print(n_crew)\n"
   ]
  },
  {
   "cell_type": "code",
   "execution_count": 31,
   "id": "e62b845f",
   "metadata": {},
   "outputs": [
    {
     "name": "stdout",
     "output_type": "stream",
     "text": [
      "        Sex   Class  Survived  Died  Survival Percentage\n",
      "0  Children   First         6     0           100.000000\n",
      "1  Children  Second        24     0           100.000000\n",
      "7     Women   First       140     4            97.222222\n",
      "8     Women  Second        80    13            86.021505\n"
     ]
    },
    {
     "name": "stderr",
     "output_type": "stream",
     "text": [
      "/var/folders/91/smnkypkn49j1vh5pdj33vg440000gn/T/ipykernel_6322/1847601100.py:5: SettingWithCopyWarning: \n",
      "A value is trying to be set on a copy of a slice from a DataFrame.\n",
      "Try using .loc[row_indexer,col_indexer] = value instead\n",
      "\n",
      "See the caveats in the documentation: https://pandas.pydata.org/pandas-docs/stable/user_guide/indexing.html#returning-a-view-versus-a-copy\n",
      "  n_crew['Survival Percentage'] = n_crew['Survived'] / (n_crew['Survived'] + n_crew['Died']) * 100\n"
     ]
    }
   ],
   "source": [
    "#7 create a new dataframe without the crew members\n",
    "n_crew = titanic[titanic['Class'] != 'Crew']\n",
    "\n",
    "# create a new column called 'Survival Percentage' that is the percentage of people who survived\n",
    "n_crew['Survival Percentage'] = n_crew['Survived'] / (n_crew['Survived'] + n_crew['Died']) * 100\n",
    "\n",
    "# show the rows where more than 80% of the people survived\n",
    "more_than_80 = n_crew[n_crew['Survival Percentage'] > 80]\n",
    "\n",
    "# display the new dataframe\n",
    "print(more_than_80)"
   ]
  },
  {
   "cell_type": "code",
   "execution_count": 32,
   "id": "02af4d34",
   "metadata": {},
   "outputs": [
    {
     "name": "stdout",
     "output_type": "stream",
     "text": [
      "        Sex   Class  Survived  Died  Survival Percentage\n",
      "2  Children   Third        27    52            34.177215\n",
      "3       Men   First        57   118            32.571429\n",
      "4       Men  Second        14   154             8.333333\n",
      "5       Men   Third        75   387            16.233766\n"
     ]
    },
    {
     "name": "stderr",
     "output_type": "stream",
     "text": [
      "/var/folders/91/smnkypkn49j1vh5pdj33vg440000gn/T/ipykernel_6322/1811358379.py:5: SettingWithCopyWarning: \n",
      "A value is trying to be set on a copy of a slice from a DataFrame.\n",
      "Try using .loc[row_indexer,col_indexer] = value instead\n",
      "\n",
      "See the caveats in the documentation: https://pandas.pydata.org/pandas-docs/stable/user_guide/indexing.html#returning-a-view-versus-a-copy\n",
      "  n_crew['Survival Percentage'] = n_crew['Survived'] / (n_crew['Survived'] + n_crew['Died']) * 100\n"
     ]
    }
   ],
   "source": [
    "#8 create a new dataframe without the crew members\n",
    "n_crew = titanic[titanic['Class'] != 'Crew']\n",
    "\n",
    "# create a new column called 'Survival Percentage' that is the percentage of people who survived\n",
    "n_crew['Survival Percentage'] = n_crew['Survived'] / (n_crew['Survived'] + n_crew['Died']) * 100\n",
    "\n",
    "# show the rows where less than 40% of the people survived\n",
    "less_than_40 = n_crew[n_crew['Survival Percentage'] < 40]\n",
    "\n",
    "# display the new dataframe\n",
    "print(less_than_40)"
   ]
  },
  {
   "cell_type": "code",
   "execution_count": 42,
   "id": "b58fc566",
   "metadata": {},
   "outputs": [],
   "source": [
    "n_crew.to_csv(\"titanic_data.csv\",index=False)"
   ]
  },
  {
   "cell_type": "code",
   "execution_count": 43,
   "id": "c41c4cee",
   "metadata": {},
   "outputs": [
    {
     "data": {
      "text/html": [
       "<div>\n",
       "<style scoped>\n",
       "    .dataframe tbody tr th:only-of-type {\n",
       "        vertical-align: middle;\n",
       "    }\n",
       "\n",
       "    .dataframe tbody tr th {\n",
       "        vertical-align: top;\n",
       "    }\n",
       "\n",
       "    .dataframe thead th {\n",
       "        text-align: right;\n",
       "    }\n",
       "</style>\n",
       "<table border=\"1\" class=\"dataframe\">\n",
       "  <thead>\n",
       "    <tr style=\"text-align: right;\">\n",
       "      <th></th>\n",
       "      <th>Sex</th>\n",
       "      <th>Class</th>\n",
       "      <th>Survived</th>\n",
       "      <th>Died</th>\n",
       "      <th>Survival Percentage</th>\n",
       "    </tr>\n",
       "  </thead>\n",
       "  <tbody>\n",
       "    <tr>\n",
       "      <th>0</th>\n",
       "      <td>Children</td>\n",
       "      <td>First</td>\n",
       "      <td>6</td>\n",
       "      <td>0</td>\n",
       "      <td>100.000000</td>\n",
       "    </tr>\n",
       "    <tr>\n",
       "      <th>1</th>\n",
       "      <td>Children</td>\n",
       "      <td>Second</td>\n",
       "      <td>24</td>\n",
       "      <td>0</td>\n",
       "      <td>100.000000</td>\n",
       "    </tr>\n",
       "    <tr>\n",
       "      <th>2</th>\n",
       "      <td>Children</td>\n",
       "      <td>Third</td>\n",
       "      <td>27</td>\n",
       "      <td>52</td>\n",
       "      <td>34.177215</td>\n",
       "    </tr>\n",
       "    <tr>\n",
       "      <th>3</th>\n",
       "      <td>Men</td>\n",
       "      <td>First</td>\n",
       "      <td>57</td>\n",
       "      <td>118</td>\n",
       "      <td>32.571429</td>\n",
       "    </tr>\n",
       "    <tr>\n",
       "      <th>4</th>\n",
       "      <td>Men</td>\n",
       "      <td>Second</td>\n",
       "      <td>14</td>\n",
       "      <td>154</td>\n",
       "      <td>8.333333</td>\n",
       "    </tr>\n",
       "    <tr>\n",
       "      <th>5</th>\n",
       "      <td>Men</td>\n",
       "      <td>Third</td>\n",
       "      <td>75</td>\n",
       "      <td>387</td>\n",
       "      <td>16.233766</td>\n",
       "    </tr>\n",
       "    <tr>\n",
       "      <th>6</th>\n",
       "      <td>Women</td>\n",
       "      <td>First</td>\n",
       "      <td>140</td>\n",
       "      <td>4</td>\n",
       "      <td>97.222222</td>\n",
       "    </tr>\n",
       "    <tr>\n",
       "      <th>7</th>\n",
       "      <td>Women</td>\n",
       "      <td>Second</td>\n",
       "      <td>80</td>\n",
       "      <td>13</td>\n",
       "      <td>86.021505</td>\n",
       "    </tr>\n",
       "    <tr>\n",
       "      <th>8</th>\n",
       "      <td>Women</td>\n",
       "      <td>Third</td>\n",
       "      <td>76</td>\n",
       "      <td>89</td>\n",
       "      <td>46.060606</td>\n",
       "    </tr>\n",
       "    <tr>\n",
       "      <th>9</th>\n",
       "      <td>men</td>\n",
       "      <td>crew</td>\n",
       "      <td>192</td>\n",
       "      <td>693</td>\n",
       "      <td>21.690000</td>\n",
       "    </tr>\n",
       "    <tr>\n",
       "      <th>10</th>\n",
       "      <td>women</td>\n",
       "      <td>crew</td>\n",
       "      <td>20</td>\n",
       "      <td>3</td>\n",
       "      <td>86.960000</td>\n",
       "    </tr>\n",
       "  </tbody>\n",
       "</table>\n",
       "</div>"
      ],
      "text/plain": [
       "         Sex   Class  Survived  Died  Survival Percentage\n",
       "0   Children   First         6     0           100.000000\n",
       "1   Children  Second        24     0           100.000000\n",
       "2   Children   Third        27    52            34.177215\n",
       "3        Men   First        57   118            32.571429\n",
       "4        Men  Second        14   154             8.333333\n",
       "5        Men   Third        75   387            16.233766\n",
       "6      Women   First       140     4            97.222222\n",
       "7      Women  Second        80    13            86.021505\n",
       "8      Women   Third        76    89            46.060606\n",
       "9        men    crew       192   693            21.690000\n",
       "10     women    crew        20     3            86.960000"
      ]
     },
     "execution_count": 43,
     "metadata": {},
     "output_type": "execute_result"
    }
   ],
   "source": [
    "titanic2=pd.read_csv(\"titanic_data2.csv\")\n",
    "titanic2"
   ]
  },
  {
   "cell_type": "code",
   "execution_count": null,
   "id": "b59ec2c6",
   "metadata": {},
   "outputs": [],
   "source": []
  }
 ],
 "metadata": {
  "kernelspec": {
   "display_name": "Python 3 (ipykernel)",
   "language": "python",
   "name": "python3"
  },
  "language_info": {
   "codemirror_mode": {
    "name": "ipython",
    "version": 3
   },
   "file_extension": ".py",
   "mimetype": "text/x-python",
   "name": "python",
   "nbconvert_exporter": "python",
   "pygments_lexer": "ipython3",
   "version": "3.9.13"
  }
 },
 "nbformat": 4,
 "nbformat_minor": 5
}

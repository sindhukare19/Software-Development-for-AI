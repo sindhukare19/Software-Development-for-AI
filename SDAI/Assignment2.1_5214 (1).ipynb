{
 "cells": [
  {
   "cell_type": "code",
   "execution_count": 2,
   "id": "1a2d4a44",
   "metadata": {},
   "outputs": [
    {
     "ename": "ModuleNotFoundError",
     "evalue": "No module named 'mpi4py'",
     "output_type": "error",
     "traceback": [
      "\u001b[0;31m---------------------------------------------------------------------------\u001b[0m",
      "\u001b[0;31mModuleNotFoundError\u001b[0m                       Traceback (most recent call last)",
      "\u001b[0;32m/var/folders/91/smnkypkn49j1vh5pdj33vg440000gn/T/ipykernel_22694/2953654453.py\u001b[0m in \u001b[0;36m<module>\u001b[0;34m\u001b[0m\n\u001b[1;32m      1\u001b[0m \u001b[0;31m#import libraries for math and message-passing interface\u001b[0m\u001b[0;34m\u001b[0m\u001b[0;34m\u001b[0m\u001b[0m\n\u001b[1;32m      2\u001b[0m \u001b[0;32mimport\u001b[0m \u001b[0mnumpy\u001b[0m \u001b[0;32mas\u001b[0m \u001b[0mnp\u001b[0m\u001b[0;34m\u001b[0m\u001b[0;34m\u001b[0m\u001b[0m\n\u001b[0;32m----> 3\u001b[0;31m \u001b[0;32mimport\u001b[0m \u001b[0mmpi4py\u001b[0m\u001b[0;34m\u001b[0m\u001b[0;34m\u001b[0m\u001b[0m\n\u001b[0m\u001b[1;32m      4\u001b[0m \u001b[0;32mfrom\u001b[0m \u001b[0mmpi4py\u001b[0m \u001b[0;32mimport\u001b[0m \u001b[0mMPI\u001b[0m\u001b[0;34m\u001b[0m\u001b[0;34m\u001b[0m\u001b[0m\n\u001b[1;32m      5\u001b[0m \u001b[0;34m\u001b[0m\u001b[0m\n",
      "\u001b[0;31mModuleNotFoundError\u001b[0m: No module named 'mpi4py'"
     ]
    }
   ],
   "source": [
    "#import libraries for math and message-passing interface\n",
    "import numpy as np\n",
    "import mpi4py\n",
    "from mpi4py import MPI\n",
    "\n"
   ]
  },
  {
   "cell_type": "code",
   "execution_count": 3,
   "id": "6c99ee97",
   "metadata": {},
   "outputs": [
    {
     "ename": "NameError",
     "evalue": "name 'MPI' is not defined",
     "output_type": "error",
     "traceback": [
      "\u001b[0;31m---------------------------------------------------------------------------\u001b[0m",
      "\u001b[0;31mNameError\u001b[0m                                 Traceback (most recent call last)",
      "\u001b[0;32m/var/folders/91/smnkypkn49j1vh5pdj33vg440000gn/T/ipykernel_22694/238108453.py\u001b[0m in \u001b[0;36m<module>\u001b[0;34m\u001b[0m\n\u001b[0;32m----> 1\u001b[0;31m \u001b[0mcomm\u001b[0m \u001b[0;34m=\u001b[0m \u001b[0mMPI\u001b[0m\u001b[0;34m.\u001b[0m\u001b[0mCOMM_WORLD\u001b[0m\u001b[0;34m\u001b[0m\u001b[0;34m\u001b[0m\u001b[0m\n\u001b[0m\u001b[1;32m      2\u001b[0m \u001b[0;34m\u001b[0m\u001b[0m\n\u001b[1;32m      3\u001b[0m \u001b[0;31m# Rank of each processor\u001b[0m\u001b[0;34m\u001b[0m\u001b[0;34m\u001b[0m\u001b[0m\n\u001b[1;32m      4\u001b[0m \u001b[0mrank\u001b[0m \u001b[0;34m=\u001b[0m \u001b[0mcomm\u001b[0m\u001b[0;34m.\u001b[0m\u001b[0mGet_rank\u001b[0m\u001b[0;34m(\u001b[0m\u001b[0;34m)\u001b[0m\u001b[0;34m\u001b[0m\u001b[0;34m\u001b[0m\u001b[0m\n\u001b[1;32m      5\u001b[0m \u001b[0;34m\u001b[0m\u001b[0m\n",
      "\u001b[0;31mNameError\u001b[0m: name 'MPI' is not defined"
     ]
    }
   ],
   "source": [
    "comm = MPI.COMM_WORLD\n",
    "\n",
    "# Rank of each processor\n",
    "rank = comm.Get_rank()\n",
    "\n",
    "#Number of processors\n",
    "size = comm.Get_size()\n",
    "\n",
    "#Function to find the Max and Min prime numbers\n",
    "def PrimeNumber_calc(buf):\n",
    "    Prime = []\n",
    "    for number in buf:  \n",
    "        if number > 1:  \n",
    "            for i in range (2, int(number)):  \n",
    "                if (number % i) == 0:  \n",
    "                    break  \n",
    "            else:  \n",
    "                Prime.append(number)\n",
    "\n",
    "    max_min = [min(Prime), max(Prime)]\n",
    "    \n",
    "    # Returns a list of two integers (<min>, <max>)\n",
    "    return max_min\n",
    "\n",
    "\n",
    "#setup integer array of N=1,000,000 digits\n",
    "N = np.arange(0,10000,1)\n",
    "\n",
    "# Get total size of array\n",
    "array_size = len(N)\n",
    "\n",
    "#Divide array_size into P equal chunks\n",
    "chunk = int(array_size/size)\n",
    "\n",
    "#Initialize Temp Variables for intermediate data\n",
    "part_n = np.zeros(chunk)\n",
    "worker_chunk = np.zeros(chunk)\n",
    "part_sum = np.zeros(chunk)\n",
    "\n",
    "#Intialize Temp Variables to store local results\n",
    "worker_buffer = []\n",
    "temp_buffer = []\n",
    "master_buffer = []\n",
    "\n",
    "#intialize counter for iterations\n",
    "i=1\n",
    "\n",
    "if rank==0:\n",
    "    #Master (rank=0) part\n",
    "    #divide total work into P equal chunks \n",
    "\n",
    "    while i < size:\n",
    "        \n",
    "        #compute start and stop indices for array slice for each rank in the group\n",
    "        start=i*chunk\n",
    "        end = (i+1)*chunk\n",
    "\n",
    "        #prepare work_chunk\n",
    "        part_sum = N[start:end]\n",
    "        \n",
    "        #send work_chunk to each worker (rank>0) in the group\n",
    "        comm.send(part_sum, dest=i, tag=20)\n",
    "\n",
    "        #Receive results from each worker\n",
    "        temp_buffer += comm.recv(source=i, tag=10)\n",
    "        i = i+1\n",
    "else:\n",
    "    #Worker (rank >0) part\n",
    "    #recv work from master\n",
    "    worker_chunk = comm.recv(source=0, tag=20)\n",
    "\n",
    "    # Find Max, Min Prime numbers of worker_chunk\n",
    "    worker_buffer = PrimeNumber_calc(worker_chunk)\n",
    "\n",
    "    #send result to Master\n",
    "    comm.send(worker_buffer, dest=0, tag=10)\n",
    "\n",
    "#Master aggregates all results\n",
    "if rank == 0:\n",
    "    master_buffer = PrimeNumber_calc(N[0:chunk]) \n",
    "    total = master_buffer + temp_buffer\n",
    "    Min_Max = PrimeNumber_calc(total)\n",
    "    print (\"[<MIN>,<MAX>] = \", Min_Max)\n"
   ]
  },
  {
   "cell_type": "code",
   "execution_count": null,
   "id": "d7e40d91",
   "metadata": {},
   "outputs": [],
   "source": []
  }
 ],
 "metadata": {
  "kernelspec": {
   "display_name": "Python 3 (ipykernel)",
   "language": "python",
   "name": "python3"
  },
  "language_info": {
   "codemirror_mode": {
    "name": "ipython",
    "version": 3
   },
   "file_extension": ".py",
   "mimetype": "text/x-python",
   "name": "python",
   "nbconvert_exporter": "python",
   "pygments_lexer": "ipython3",
   "version": "3.9.13"
  }
 },
 "nbformat": 4,
 "nbformat_minor": 5
}
